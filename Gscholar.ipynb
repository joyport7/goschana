{
 "cells": [
  {
   "cell_type": "code",
   "execution_count": 1,
   "id": "754ecba0-9b06-4e51-aaf0-3ab6e0a1c026",
   "metadata": {
    "tags": []
   },
   "outputs": [],
   "source": [
    "import os\n",
    "import sys\n",
    "import re\n",
    "import requests\n",
    "from bs4 import BeautifulSoup\n",
    "import pandas as pd\n",
    "import pickle\n",
    "sys.path.append('../')\n",
    "import confana"
   ]
  },
  {
   "cell_type": "code",
   "execution_count": null,
   "id": "4179f5d8-b31f-4c71-b930-96f5b29c965c",
   "metadata": {
    "tags": []
   },
   "outputs": [
    {
     "name": "stdout",
     "output_type": "stream",
     "text": [
      "https://scholar.google.jp/citations?view_op=search_authors&hl=ja&mauthors=label:machine_learning ...\n"
     ]
    }
   ],
   "source": [
    "\"\"\"\n",
    "configurations\n",
    "\"\"\"\n",
    "#param = confana.set_param('https://scholar.google.jp/citations?hl=ja&view_op=search_authors&mauthors=label:computer_vision', 'CV', 2023, 2023, 1, 1)\n",
    "#param = confana.set_param('https://scholar.google.jp/citations?view_op=search_authors&hl=ja&mauthors=label:robotics', 'ROBO', 2023, 2023, 1, 1)\n",
    "param = confana.set_param('https://scholar.google.jp/citations?view_op=search_authors&hl=ja&mauthors=label:machine_learning', 'ML', 2023, 2023, 1, 1)\n",
    "#param = confana.set_param('https://scholar.google.jp/citations?view_op=search_authors&hl=ja&mauthors=label:natural_language_processing', 'NLP', 2023, 2023, 1, 1)\n",
    "\n",
    "print(param.site,'...')\n",
    "pu = confana.parseUrl(param)\n",
    "normal, name, nmlink, aff, citation = pu.Gscholar(2000)\n",
    "if normal < 0: \n",
    "    print('parsing failed...')\n",
    "print(f'retrieved {len(name)} researchers...')\n",
    "\n",
    "fname = 'Frank_' + param.conf_prefix + '.csv'\n",
    "pu.csvwrite(fname, name, nmlink, aff, citation)\n",
    "\n",
    "pNAC = confana.parseNAClist(name, nmlink, aff, citation)\n",
    "jpname, jplink, jpaff, jpcite, numjp = pNAC.selectJP()\n",
    "\n",
    "normal, mnindcite = pu.GscholarInd(jpname,jplink)\n",
    "for ii in range(0,numjp):\n",
    "    print(f'{jpname[ii]}\\t{jpcite[ii]}\\t{jpaff[ii]}\\t{mnindcite[jpname[ii]]}')\n"
   ]
  },
  {
   "cell_type": "code",
   "execution_count": null,
   "id": "98fde435-cc7e-48a6-b472-e8f9903887cc",
   "metadata": {},
   "outputs": [],
   "source": [
    "for ii in range(0,len(name)):\n",
    "    print(name[ii],citation[ii])"
   ]
  }
 ],
 "metadata": {
  "kernelspec": {
   "display_name": "Python 3 (ipykernel)",
   "language": "python",
   "name": "python3"
  },
  "language_info": {
   "codemirror_mode": {
    "name": "ipython",
    "version": 3
   },
   "file_extension": ".py",
   "mimetype": "text/x-python",
   "name": "python",
   "nbconvert_exporter": "python",
   "pygments_lexer": "ipython3",
   "version": "3.8.11"
  }
 },
 "nbformat": 4,
 "nbformat_minor": 5
}
