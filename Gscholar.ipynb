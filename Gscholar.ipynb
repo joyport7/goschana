{
 "cells": [
  {
   "cell_type": "code",
   "execution_count": 1,
   "id": "754ecba0-9b06-4e51-aaf0-3ab6e0a1c026",
   "metadata": {},
   "outputs": [],
   "source": [
    "import os\n",
    "import sys\n",
    "import re\n",
    "import requests\n",
    "from bs4 import BeautifulSoup\n",
    "import pandas as pd\n",
    "import pickle\n",
    "sys.path.append('../')\n",
    "import confana"
   ]
  },
  {
   "cell_type": "code",
   "execution_count": 2,
   "id": "f71af918-03df-4297-a64b-325acad65057",
   "metadata": {},
   "outputs": [],
   "source": [
    "def write_lists_to_file(file_name, *lists):\n",
    "    with open(file_name, 'w', encoding = \"utf_8\") as file:\n",
    "        for items in zip(*lists):\n",
    "            line = '\\t'.join(str(item) for item in items) + '\\n'\n",
    "            file.write(line)"
   ]
  },
  {
   "cell_type": "code",
   "execution_count": 3,
   "id": "4179f5d8-b31f-4c71-b930-96f5b29c965c",
   "metadata": {
    "tags": []
   },
   "outputs": [
    {
     "name": "stdout",
     "output_type": "stream",
     "text": [
      "https://scholar.google.jp/citations?view_op=search_authors&hl=ja&mauthors=label:natural_language_processing ...\n"
     ]
    },
    {
     "ename": "TypeError",
     "evalue": "Gscholar() takes 1 positional argument but 2 were given",
     "output_type": "error",
     "traceback": [
      "\u001b[0;31m---------------------------------------------------------------------------\u001b[0m",
      "\u001b[0;31mTypeError\u001b[0m                                 Traceback (most recent call last)",
      "Cell \u001b[0;32mIn[3], line 12\u001b[0m\n\u001b[1;32m     10\u001b[0m \u001b[38;5;28mprint\u001b[39m(param\u001b[38;5;241m.\u001b[39msite,\u001b[38;5;124m'\u001b[39m\u001b[38;5;124m...\u001b[39m\u001b[38;5;124m'\u001b[39m)\n\u001b[1;32m     11\u001b[0m pu \u001b[38;5;241m=\u001b[39m confana\u001b[38;5;241m.\u001b[39mparseUrl(param\u001b[38;5;241m.\u001b[39msite,param\u001b[38;5;241m.\u001b[39mconf_prefix)\n\u001b[0;32m---> 12\u001b[0m normal, name, aff, citation \u001b[38;5;241m=\u001b[39m \u001b[43mpu\u001b[49m\u001b[38;5;241;43m.\u001b[39;49m\u001b[43mGscholar\u001b[49m\u001b[43m(\u001b[49m\u001b[38;5;241;43m900\u001b[39;49m\u001b[43m)\u001b[49m\n\u001b[1;32m     13\u001b[0m \u001b[38;5;28;01mif\u001b[39;00m normal \u001b[38;5;241m<\u001b[39m \u001b[38;5;241m0\u001b[39m: \n\u001b[1;32m     14\u001b[0m     \u001b[38;5;28mprint\u001b[39m(\u001b[38;5;124m'\u001b[39m\u001b[38;5;124mparsing failed...\u001b[39m\u001b[38;5;124m'\u001b[39m)\n",
      "\u001b[0;31mTypeError\u001b[0m: Gscholar() takes 1 positional argument but 2 were given"
     ]
    }
   ],
   "source": [
    "# configurations\n",
    "#param = confana.set_param('https://scholar.google.jp/citations?hl=ja&view_op=search_authors&mauthors=label:computer_vision', 'CVPR', 2023, 2023, 1, 1)\n",
    "#fname = 'Frank_cv.csv'\n",
    "#param = confana.set_param('https://scholar.google.jp/citations?view_op=search_authors&hl=ja&mauthors=label:robotics', 'ICRA', 2023, 2023, 1, 1)\n",
    "#param = confana.set_param('https://scholar.google.jp/citations?view_op=search_authors&hl=ja&mauthors=label:machine_learning', 'ICML', 2023, 2023, 1, 1)\n",
    "param = confana.set_param('https://scholar.google.jp/citations?view_op=search_authors&hl=ja&mauthors=label:natural_language_processing', 'ACL', 2023, 2023, 1, 1)\n",
    "fname = 'Frank_nlp.csv'\n",
    "\n",
    "histall = {}\n",
    "print(param.site,'...')\n",
    "pu = confana.parseUrl(param.site,param.conf_prefix)\n",
    "normal, name, aff, citation = pu.Gscholar()\n",
    "if normal < 0: \n",
    "    print('parsing failed...')\n",
    "print(f'retrieved {len(name)} researchers...')\n",
    "write_lists_to_file(fname, name, aff, citation)\n",
    "\n",
    "pNAC = confana.parseNAClist(name, aff, citation)\n",
    "jpname, jpaff, jpcite, numjp = pNAC.selectJP()\n",
    "\n",
    "for ii in range(0,len(jpname)):\n",
    "    nm = jpname[ii]\n",
    "    if nm == 'Sato Imari':\n",
    "        nm = 'Imari Sato'\n",
    "    elif nm == 'Okatani Takayuki':\n",
    "        nm = 'Takayuki Okatani'\n",
    "    elif nm == 'Shouno Hayaru':\n",
    "        nm = 'Hayaru Shouno'\n",
    "    jpname[ii] = nm\n",
    "\n",
    "normal, mnindcite = pu.GscholarInd(jpname)\n",
    "for ii in range(0,numjp):\n",
    "    print(f'{jpname[ii]}\\t{jpcite[ii]}\\t{jpaff[ii]}\\t{mnindcite[jpname[ii]]}')\n"
   ]
  },
  {
   "cell_type": "code",
   "execution_count": null,
   "id": "98fde435-cc7e-48a6-b472-e8f9903887cc",
   "metadata": {},
   "outputs": [],
   "source": [
    "for ii in range(0,len(name)):\n",
    "    print(name[ii],citation[ii])\n",
    "#    if name[ii] == 'Lucas Beyer':\n",
    "#        print(ii)"
   ]
  },
  {
   "cell_type": "code",
   "execution_count": 3,
   "id": "0d46483c-50a2-4194-8832-582e27782d66",
   "metadata": {},
   "outputs": [
    {
     "name": "stdout",
     "output_type": "stream",
     "text": [
      "['yasunori ishii']\n"
     ]
    }
   ],
   "source": [
    "name = ['yasunori ishii']\n",
    "aff = ['panasonic']\n",
    "citation = [10]\n",
    "pNAC = confana.parseNAClist(name, aff, citation)\n",
    "jpname, jpaff, jpcite, numjp = pNAC.selectJP()\n",
    "\n",
    "print(jpname)\n"
   ]
  },
  {
   "cell_type": "code",
   "execution_count": null,
   "id": "68dd3113-23b1-4e1d-8cb6-3a83cce15f32",
   "metadata": {},
   "outputs": [],
   "source": []
  }
 ],
 "metadata": {
  "kernelspec": {
   "display_name": "Python 3 (ipykernel)",
   "language": "python",
   "name": "python3"
  },
  "language_info": {
   "codemirror_mode": {
    "name": "ipython",
    "version": 3
   },
   "file_extension": ".py",
   "mimetype": "text/x-python",
   "name": "python",
   "nbconvert_exporter": "python",
   "pygments_lexer": "ipython3",
   "version": "3.8.11"
  }
 },
 "nbformat": 4,
 "nbformat_minor": 5
}
